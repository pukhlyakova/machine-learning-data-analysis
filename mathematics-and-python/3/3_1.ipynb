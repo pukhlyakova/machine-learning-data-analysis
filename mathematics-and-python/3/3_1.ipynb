{
 "cells": [
  {
   "cell_type": "code",
   "execution_count": 9,
   "metadata": {
    "collapsed": true
   },
   "outputs": [],
   "source": [
    "import numpy as np\n",
    "from scipy.optimize import minimize\n",
    "import math\n",
    "%matplotlib inline\n",
    "from matplotlib import pylab as plt"
   ]
  },
  {
   "cell_type": "code",
   "execution_count": 3,
   "metadata": {
    "collapsed": true
   },
   "outputs": [],
   "source": [
    "def f(x):\n",
    "    return math.sin(x / 5.0) * math.exp(x / 10.0) + 5.0 * math.exp(-x / 2.0)"
   ]
  },
  {
   "cell_type": "code",
   "execution_count": 6,
   "metadata": {
    "collapsed": true
   },
   "outputs": [],
   "source": [
    "x = range(1, 30)\n",
    "y = [f(v) for v in x]"
   ]
  },
  {
   "cell_type": "code",
   "execution_count": 7,
   "metadata": {
    "collapsed": false
   },
   "outputs": [
    {
     "data": {
      "image/png": "[encoded data removed]",
      "text/plain": [
       "<matplotlib.figure.Figure at 0x105dc8610>"
      ]
     },
     "metadata": {},
     "output_type": "display_data"
    }
   ],
   "source": [
    "plt.plot(x, y)\n",
    "plt.show()"
   ]
  },
  {
   "cell_type": "code",
   "execution_count": 13,
   "metadata": {
    "collapsed": false
   },
   "outputs": [
    {
     "name": "stdout",
     "output_type": "stream",
     "text": [
      "      fun: 1.7452682903319903\n",
      " hess_inv: array([[ 6.02455355]])\n",
      "      jac: array([ -8.94069672e-08])\n",
      "  message: 'Optimization terminated successfully.'\n",
      "     nfev: 27\n",
      "      nit: 8\n",
      "     njev: 9\n",
      "   status: 0\n",
      "  success: True\n",
      "        x: array([ 4.13628824])\n",
      "      fun: 1.745268290331985\n",
      " hess_inv: array([[ 6.05527894]])\n",
      "      jac: array([ -4.47034836e-08])\n",
      "  message: 'Optimization terminated successfully.'\n",
      "     nfev: 21\n",
      "      nit: 6\n",
      "     njev: 7\n",
      "   status: 0\n",
      "  success: True\n",
      "        x: array([ 4.13628831])\n",
      "      fun: 1.7452682903427892\n",
      " hess_inv: array([[ 6.04855707]])\n",
      "      jac: array([  1.90734863e-06])\n",
      "  message: 'Optimization terminated successfully.'\n",
      "     nfev: 39\n",
      "      nit: 3\n",
      "     njev: 13\n",
      "   status: 0\n",
      "  success: True\n",
      "        x: array([ 4.13630013])\n",
      "      fun: -11.503580741169603\n",
      " hess_inv: array([[ 49.07083657]])\n",
      "      jac: array([-0.6282866])\n",
      "  message: 'Desired error not necessarily achieved due to precision loss.'\n",
      "     nfev: 63\n",
      "      nit: 1\n",
      "     njev: 19\n",
      "   status: 2\n",
      "  success: False\n",
      "        x: array([ 24.67766107])\n",
      "      fun: -11.898894665971952\n",
      " hess_inv: array([[ 1.68469947]])\n",
      "      jac: array([ -3.33786011e-06])\n",
      "  message: 'Optimization terminated successfully.'\n",
      "     nfev: 21\n",
      "      nit: 4\n",
      "     njev: 7\n",
      "   status: 0\n",
      "  success: True\n",
      "        x: array([ 25.88018742])\n",
      "      fun: -11.89889466596626\n",
      " hess_inv: array([[ 1.67418754]])\n",
      "      jac: array([ -4.29153442e-06])\n",
      "  message: 'Optimization terminated successfully.'\n",
      "     nfev: 15\n",
      "      nit: 4\n",
      "     njev: 5\n",
      "   status: 0\n",
      "  success: True\n",
      "        x: array([ 25.88018592])\n"
     ]
    }
   ],
   "source": [
    "for x in range(0, 30, 5):\n",
    "    x0 = [x]\n",
    "    res = minimize(f, x0)\n",
    "    print res"
   ]
  },
  {
   "cell_type": "markdown",
   "metadata": {},
   "source": [
    "Можно увидеть, что сначало мы попадаем локальный минимум (4), но при начально приближении близким к глобальному минимому (25) результат оптимизации меняется и мы находим глобальный минимум."
   ]
  },
  {
   "cell_type": "code",
   "execution_count": 14,
   "metadata": {
    "collapsed": false
   },
   "outputs": [
    {
     "name": "stdout",
     "output_type": "stream",
     "text": [
      "      fun: 1.745268290344928\n",
      " hess_inv: array([[ 5.98750711]])\n",
      "      jac: array([ -2.05636024e-06])\n",
      "  message: 'Optimization terminated successfully.'\n",
      "     nfev: 21\n",
      "      nit: 6\n",
      "     njev: 7\n",
      "   status: 0\n",
      "  success: True\n",
      "        x: array([ 4.13627619])\n"
     ]
    }
   ],
   "source": [
    "x0 = [2]\n",
    "res = minimize(f, x0, method='BFGS')\n",
    "print res"
   ]
  },
  {
   "cell_type": "code",
   "execution_count": 15,
   "metadata": {
    "collapsed": false
   },
   "outputs": [
    {
     "name": "stdout",
     "output_type": "stream",
     "text": [
      "      fun: -11.898894665981322\n",
      " hess_inv: array([[ 1.67940841]])\n",
      "      jac: array([ 0.])\n",
      "  message: 'Optimization terminated successfully.'\n",
      "     nfev: 21\n",
      "      nit: 6\n",
      "     njev: 7\n",
      "   status: 0\n",
      "  success: True\n",
      "        x: array([ 25.880193])\n"
     ]
    }
   ],
   "source": [
    "x0 = [30]\n",
    "res = minimize(f, x0, method='BFGS')\n",
    "print res"
   ]
  }
 ],
 "metadata": {
  "anaconda-cloud": {},
  "kernelspec": {
   "display_name": "Python [conda root]",
   "language": "python",
   "name": "conda-root-py"
  },
  "language_info": {
   "codemirror_mode": {
    "name": "ipython",
    "version": 2
   },
   "file_extension": ".py",
   "mimetype": "text/x-python",
   "name": "python",
   "nbconvert_exporter": "python",
   "pygments_lexer": "ipython2",
   "version": "2.7.12"
  }
 },
 "nbformat": 4,
 "nbformat_minor": 1
}
